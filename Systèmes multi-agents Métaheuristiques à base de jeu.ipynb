{
 "cells": [
  {
   "cell_type": "code",
   "execution_count": 1,
   "id": "e1d1209f-3c44-4631-af4f-6c37d23ef9db",
   "metadata": {},
   "outputs": [],
   "source": [
    "import pandas as pd\n",
    "import numpy as np\n",
    "from sklearn.preprocessing import LabelEncoder, StandardScaler\n",
    "from sklearn.impute import SimpleImputer\n",
    "from sklearn.model_selection import train_test_split\n",
    "from sklearn.ensemble import RandomForestClassifier\n",
    "from sklearn.metrics import accuracy_score, precision_score, recall_score, f1_score, roc_auc_score\n",
    "from sklearn.feature_selection import SelectKBest, f_classif\n",
    "import matplotlib.pyplot as plt\n"
   ]
  },
  {
   "cell_type": "code",
   "execution_count": 3,
   "id": "c0ec263a-c5de-4240-9d45-216d3b87c2ff",
   "metadata": {},
   "outputs": [],
   "source": [
    "# Fonction pour l'évaluation du modèle\n",
    "def evaluate_model(model, X_val: np.ndarray, y_val: np.ndarray):\n",
    "    predictions = model.predict(X_val)\n",
    "    probs = model.predict_proba(X_val)[:, 1] if hasattr(model, \"predict_proba\") else None\n",
    "\n",
    "    metrics = {\n",
    "        \"Accuracy\": accuracy_score(y_val, predictions),\n",
    "        \"Precision\": precision_score(y_val, predictions, zero_division=0),\n",
    "        \"Recall\": recall_score(y_val, predictions, zero_division=0),\n",
    "        \"F1-score\": f1_score(y_val, predictions, zero_division=0),\n",
    "        \"ROC-AUC\": roc_auc_score(y_val, probs) if probs is not None else \"N/A\"\n",
    "    }\n",
    "\n",
    "    for metric, value in metrics.items():\n",
    "        print(f\"{metric}: {value:.4f}\" if isinstance(value, float) else f\"{metric}: {value}\")\n"
   ]
  },
  {
   "cell_type": "code",
   "execution_count": 5,
   "id": "f2b189db-eb10-478b-a0b1-e54a347967b3",
   "metadata": {},
   "outputs": [],
   "source": [
    "# Classe pour l'optimisation du modèle RandomForest avec une approche métaheuristique\n",
    "class RandomForestOptimizer:\n",
    "    def __init__(self, param_ranges):\n",
    "        self.param_ranges = param_ranges\n",
    "\n",
    "    def params_from_solution(self, solution: np.ndarray):\n",
    "        params = {}\n",
    "        for i, (param_name, (min_val, max_val)) in enumerate(self.param_ranges.items()):\n",
    "            params[param_name] = int(solution[i] * (max_val - min_val) + min_val)\n",
    "        return params\n",
    "\n",
    "    def objective_function(self, solution: np.ndarray, X_train, y_train, X_val, y_val):\n",
    "        model = RandomForestClassifier(**self.params_from_solution(solution))\n",
    "        model.fit(X_train, y_train)\n",
    "        predictions = model.predict(X_val)\n",
    "        return 1 - accuracy_score(y_val, predictions)\n",
    "\n",
    "    def optimize(self, population: np.ndarray, X_train: np.ndarray, y_train: np.ndarray,\n",
    "                 X_val: np.ndarray, y_val: np.ndarray, iterations: int = 10) -> np.ndarray:\n",
    "        print('Starting MLBO optimization..')\n",
    "        population = population.copy()\n",
    "\n",
    "        fitness = [self.objective_function(p, X_train, y_train, X_val, y_val) for p in population]\n",
    "        leader = population[np.argmin(fitness)].copy()\n",
    "        print(f'Initial leader fitness: {min(fitness):.4f}')\n",
    "\n",
    "        best_fitness_history = []\n",
    "\n",
    "        for iteration in range(iterations):\n",
    "            print(f'Iteration {iteration + 1}/{iterations}...')\n",
    "            new_leader = 0.5 * leader + 0.5 * population[np.random.randint(0, len(population))]\n",
    "\n",
    "            for i in range(len(population)):\n",
    "                distance = np.linalg.norm(population[i] - new_leader)\n",
    "                step_size = distance / 2\n",
    "                new_solution = population[i] + step_size * (new_leader - population[i])\n",
    "                population[i] = np.clip(new_solution, 0, 1)\n",
    "\n",
    "            fitness = [self.objective_function(p, X_train, y_train, X_val, y_val) for p in population]\n",
    "            best_index = np.argmin(fitness)\n",
    "            current_best_fitness = fitness[best_index]\n",
    "            best_fitness_history.append(current_best_fitness)\n",
    "\n",
    "            print(f'Best fitness in iteration {iteration + 1}: {current_best_fitness:.4f}')\n",
    "            if current_best_fitness < self.objective_function(leader, X_train, y_train, X_val, y_val):\n",
    "                leader = population[best_index].copy()\n",
    "\n",
    "        # Visualiser la progression de l'optimisation\n",
    "        plt.figure(figsize=(10, 6))\n",
    "        plt.plot(range(1, iterations + 1), best_fitness_history, 'b-')\n",
    "        plt.title('Optimization Progress')\n",
    "        plt.xlabel('Iteration')\n",
    "        plt.ylabel('Best Fitness (1 - Accuracy)')\n",
    "        plt.grid(True)\n",
    "        plt.show()\n",
    "\n",
    "        # Évaluer la meilleure solution\n",
    "        best_params = self.params_from_solution(leader)\n",
    "        best_model = RandomForestClassifier(**best_params)\n",
    "        best_model.fit(X_train, y_train)\n",
    "        print(\"\\nOptimization Complete.\")\n",
    "        print(\"Best Parameters:\", best_params)\n",
    "        print(\"\\nEvaluation Metrics:\")\n",
    "        evaluate_model(best_model, X_val, y_val)\n",
    "\n",
    "        return population, best_model"
   ]
  },
  {
   "cell_type": "code",
   "execution_count": 7,
   "id": "6b307ac6-d858-4718-bc38-2a905454a819",
   "metadata": {},
   "outputs": [
    {
     "name": "stdout",
     "output_type": "stream",
     "text": [
      "Index(['id', 'protected', 'followers_count', 'friends_count',\n",
      "       'favourites_count', 'profile_use_background_image', 'hashtags_average',\n",
      "       'mentions_average', 'urls_average', 'description', 'statuses_count',\n",
      "       'listed_count', 'verified', 'contributors_enabled', 'default_profile',\n",
      "       'default_profile_image', 'is_translator', 'is_fake'],\n",
      "      dtype='object')\n"
     ]
    }
   ],
   "source": [
    "file_path = r'C:\\Users\\pc\\Downloads\\fake profile detection datasets\\csv_result-Twitter_dataset.xlsx'\n",
    "data = pd.ExcelFile(file_path).parse('csv_result-Twitter_dataset')\n",
    "print(data.columns)\n"
   ]
  },
  {
   "cell_type": "code",
   "execution_count": 9,
   "id": "2dbe9423-fd23-43bc-8a05-dcb89a66d3c8",
   "metadata": {},
   "outputs": [
    {
     "name": "stdout",
     "output_type": "stream",
     "text": [
      "Index(['id', 'protected', 'followers_count', 'friends_count',\n",
      "       'favourites_count', 'profile_use_background_image', 'hashtags_average',\n",
      "       'mentions_average', 'urls_average', 'description', 'statuses_count',\n",
      "       'listed_count', 'verified', 'contributors_enabled', 'default_profile',\n",
      "       'default_profile_image', 'is_translator', 'is_fake'],\n",
      "      dtype='object')\n"
     ]
    }
   ],
   "source": [
    "# Nettoyer les noms de colonnes (enlever les guillemets et espaces)\n",
    "data.columns = data.columns.str.replace(\"''\", '', regex=True).str.strip()\n",
    "\n",
    "# Afficher les colonnes après nettoyage\n",
    "print(data.columns)\n"
   ]
  },
  {
   "cell_type": "code",
   "execution_count": 11,
   "id": "13f941cd-8435-484f-b8ad-4820d8587d82",
   "metadata": {},
   "outputs": [
    {
     "name": "stdout",
     "output_type": "stream",
     "text": [
      "Colonnes après nettoyage :\n",
      "Index(['protected', 'followers_count', 'friends_count', 'favourites_count',\n",
      "       'profile_use_background_image', 'hashtags_average', 'mentions_average',\n",
      "       'urls_average', 'statuses_count', 'listed_count', 'verified',\n",
      "       'contributors_enabled', 'default_profile', 'default_profile_image',\n",
      "       'is_translator', 'is_fake'],\n",
      "      dtype='object')\n",
      "Exemple de données nettoyées :\n",
      "   protected  followers_count  friends_count  favourites_count  \\\n",
      "0      False             2232            414              4227   \n",
      "1      False               19            128               479   \n",
      "2      False              121             53              1567   \n",
      "3      False             4112            710              1129   \n",
      "4      False              304            175              3424   \n",
      "\n",
      "   profile_use_background_image  hashtags_average  mentions_average  \\\n",
      "0                          True              0.10              0.85   \n",
      "1                          True              0.05              0.60   \n",
      "2                          True              0.20              0.35   \n",
      "3                          True              0.75              0.50   \n",
      "4                          True              0.85              1.10   \n",
      "\n",
      "   urls_average  statuses_count  listed_count  verified  contributors_enabled  \\\n",
      "0          0.35            3415             2     False                 False   \n",
      "1          0.00             140             0     False                 False   \n",
      "2          0.00            1242             0     False                 False   \n",
      "3          0.00            8066             3     False                 False   \n",
      "4          0.00            1525             0     False                 False   \n",
      "\n",
      "   default_profile  default_profile_image  is_translator  is_fake  \n",
      "0            False                  False          False    False  \n",
      "1             True                  False          False    False  \n",
      "2            False                  False          False    False  \n",
      "3            False                  False          False    False  \n",
      "4             True                  False          False    False  \n"
     ]
    }
   ],
   "source": [
    "# Nettoyage des données : suppression des colonnes inutiles\n",
    "columns_to_drop = ['id', 'description']\n",
    "columns_to_drop = [col for col in columns_to_drop if col in data.columns]\n",
    "data_cleaned = data.drop(columns=columns_to_drop)\n",
    "\n",
    "# Vérification des colonnes après nettoyage\n",
    "print(\"Colonnes après nettoyage :\")\n",
    "print(data_cleaned.columns)\n",
    "\n",
    "# Affichage des 5 premières lignes\n",
    "print(\"Exemple de données nettoyées :\")\n",
    "print(data_cleaned.head())\n"
   ]
  },
  {
   "cell_type": "code",
   "execution_count": 13,
   "id": "28c0d7f9-062e-4832-8793-a1d405b2fb85",
   "metadata": {},
   "outputs": [],
   "source": [
    "# Remplissage des valeurs manquantes : avec 0 pour les colonnes numériques\n",
    "data_cleaned['followers_count'] = data_cleaned['followers_count'].fillna(0)\n",
    "data_cleaned['friends_count'] = data_cleaned['friends_count'].fillna(0)\n",
    "data_cleaned['favourites_count'] = data_cleaned['favourites_count'].fillna(0)\n",
    "\n"
   ]
  },
  {
   "cell_type": "code",
   "execution_count": 15,
   "id": "57632d42-d033-46b2-96fe-7553a00ade13",
   "metadata": {},
   "outputs": [],
   "source": [
    "# Définir les colonnes catégorielles et numériques\n",
    "categorical_columns = ['protected', 'profile_use_background_image', 'verified', 'contributors_enabled', \n",
    "                       'default_profile', 'default_profile_image', 'is_translator', 'is_fake']\n",
    "numeric_columns = ['followers_count', 'friends_count', 'favourites_count', 'hashtags_average', \n",
    "                   'mentions_average', 'urls_average', 'statuses_count', 'listed_count']\n"
   ]
  },
  {
   "cell_type": "code",
   "execution_count": 17,
   "id": "93b33e91-c90e-466f-bd29-61267dfe2726",
   "metadata": {},
   "outputs": [],
   "source": [
    "\n",
    "# Remplir les valeurs manquantes pour les colonnes catégorielles avec 'Unknown'\n",
    "for col in categorical_columns:\n",
    "    # Remplissage des valeurs manquantes pour les colonnes catégorielles avec 'Unknown'\n",
    "    data_cleaned[col] = data_cleaned[col].fillna('Unknown')\n",
    "\n"
   ]
  },
  {
   "cell_type": "code",
   "execution_count": 19,
   "id": "ecb53476-3bf1-41c5-b3ec-907a46d2780b",
   "metadata": {},
   "outputs": [],
   "source": [
    "# Créer le dataset transformé avec les variables catégorielles encodées\n",
    "data_processed = pd.get_dummies(data_cleaned, columns=categorical_columns, drop_first=True)\n",
    "\n",
    "# Standardisation des colonnes numériques\n",
    "scaler = StandardScaler()\n",
    "data_processed[numeric_columns] = scaler.fit_transform(data_processed[numeric_columns])\n"
   ]
  },
  {
   "cell_type": "code",
   "execution_count": 21,
   "id": "96a6b05a-39a5-4a2b-93ac-7a9bacd08083",
   "metadata": {},
   "outputs": [
    {
     "name": "stdout",
     "output_type": "stream",
     "text": [
      "Index(['followers_count', 'friends_count', 'favourites_count',\n",
      "       'hashtags_average', 'mentions_average', 'urls_average',\n",
      "       'statuses_count', 'listed_count', 'protected_True',\n",
      "       'profile_use_background_image_True', 'verified_True',\n",
      "       'default_profile_True', 'default_profile_image_True', 'is_fake_True'],\n",
      "      dtype='object')\n"
     ]
    }
   ],
   "source": [
    "print(data_processed.columns)\n"
   ]
  },
  {
   "cell_type": "code",
   "execution_count": 23,
   "id": "2b0abd9d-e473-42b4-990b-1229e47206bb",
   "metadata": {},
   "outputs": [],
   "source": [
    "# Séparer les variables indépendantes (X) et la cible (y)\n",
    "X = data_processed.drop(columns=['is_fake_True'])\n",
    "y = data_processed['is_fake_True']\n"
   ]
  },
  {
   "cell_type": "code",
   "execution_count": 60,
   "id": "ff66daa1-2853-4b1d-9241-060d75a74542",
   "metadata": {},
   "outputs": [
    {
     "name": "stdout",
     "output_type": "stream",
     "text": [
      "\n",
      "Selected features: Index(['friends_count', 'favourites_count', 'hashtags_average',\n",
      "       'mentions_average', 'urls_average', 'statuses_count', 'protected_True',\n",
      "       'profile_use_background_image_True', 'default_profile_True',\n",
      "       'default_profile_image_True'],\n",
      "      dtype='object')\n",
      "Starting MLBO optimization..\n",
      "Initial leader fitness: 0.0952\n",
      "Iteration 1/10...\n",
      "Best fitness in iteration 1: 0.1000\n",
      "Iteration 2/10...\n",
      "Best fitness in iteration 2: 0.1000\n",
      "Iteration 3/10...\n",
      "Best fitness in iteration 3: 0.1048\n",
      "Iteration 4/10...\n",
      "Best fitness in iteration 4: 0.1048\n",
      "Iteration 5/10...\n",
      "Best fitness in iteration 5: 0.1048\n",
      "Iteration 6/10...\n",
      "Best fitness in iteration 6: 0.1048\n",
      "Iteration 7/10...\n",
      "Best fitness in iteration 7: 0.1048\n",
      "Iteration 8/10...\n",
      "Best fitness in iteration 8: 0.1048\n",
      "Iteration 9/10...\n",
      "Best fitness in iteration 9: 0.1048\n",
      "Iteration 10/10...\n",
      "Best fitness in iteration 10: 0.1048\n"
     ]
    },
    {
     "data": {
      "image/png": "[encoded data removed]",
      "text/plain": [
       "<Figure size 1000x600 with 1 Axes>"
      ]
     },
     "metadata": {},
     "output_type": "display_data"
    },
    {
     "name": "stdout",
     "output_type": "stream",
     "text": [
      "\n",
      "Optimization Complete.\n",
      "Best Parameters: {'n_estimators': 113, 'max_depth': 8, 'min_samples_split': 6, 'min_samples_leaf': 3}\n",
      "\n",
      "Evaluation Metrics:\n",
      "Accuracy: 0.8857\n",
      "Precision: 0.8785\n",
      "Recall: 0.8952\n",
      "F1-score: 0.8868\n",
      "ROC-AUC: 0.9617\n",
      "\n",
      "Final Evaluation on Test Set:\n",
      "Accuracy: 0.9133\n",
      "Precision: 0.9156\n",
      "Recall: 0.9156\n",
      "F1-score: 0.9156\n",
      "ROC-AUC: 0.9706\n"
     ]
    },
    {
     "data": {
      "text/plain": [
       "<Figure size 1000x600 with 0 Axes>"
      ]
     },
     "metadata": {},
     "output_type": "display_data"
    },
    {
     "data": {
      "image/png": "[encoded data removed]",
      "text/plain": [
       "<Figure size 640x480 with 1 Axes>"
      ]
     },
     "metadata": {},
     "output_type": "display_data"
    }
   ],
   "source": [
    "\n",
    "\n",
    "\n",
    "\n",
    "# Créer le dataset transformé avec les variables catégorielles encodées\n",
    "data_processed = pd.get_dummies(data_cleaned, columns=categorical_columns, drop_first=True)\n",
    "\n",
    "# Standardisation des colonnes numériques\n",
    "scaler = StandardScaler()\n",
    "data_processed[numeric_columns] = scaler.fit_transform(data_processed[numeric_columns])\n",
    "\n",
    "# Séparer les variables indépendantes (X) et la cible (y)\n",
    "X = data_processed.drop(columns=['is_fake_True'])\n",
    "y = data_processed['is_fake_True']\n",
    "# Sélection des caractéristiques\n",
    "selector = SelectKBest(score_func=f_classif, k=min(10, X.shape[1]))\n",
    "X_new = selector.fit_transform(X, y)\n",
    "selected_columns = X.columns[selector.get_support()]\n",
    "print(\"\\nSelected features:\", selected_columns)\n",
    "\n",
    "# Mise à jour des colonnes sélectionnées pour le dataframe X\n",
    "X = pd.DataFrame(X_new, columns=selected_columns)\n",
    "\n",
    "# Diviser les données en ensembles d'entraînement, de validation et de test\n",
    "X_train, X_test, y_train, y_test = train_test_split(X, y, test_size=0.3, random_state=42)\n",
    "X_train, X_val, y_train, y_val = train_test_split(X_train, y_train, test_size=0.3, random_state=42)\n",
    "\n",
    "# Définir les plages de paramètres pour l'optimisation\n",
    "param_ranges = {\n",
    "    'n_estimators': (50, 200),\n",
    "    'max_depth': (3, 20),\n",
    "    'min_samples_split': (2, 10),\n",
    "    'min_samples_leaf': (1, 5)\n",
    "}\n",
    "\n",
    "# Initialiser l'optimiseur\n",
    "optimizer = RandomForestOptimizer(param_ranges)\n",
    "\n",
    "# Générer une population initiale pour l'optimisation\n",
    "population_size = 40\n",
    "population = np.random.random((population_size, len(param_ranges)))\n",
    "\n",
    "# Lancer l'optimisation\n",
    "final_population, best_model = optimizer.optimize(\n",
    "    population=population,\n",
    "    X_train=X_train,\n",
    "    y_train=y_train,\n",
    "    X_val=X_val,\n",
    "    y_val=y_val,\n",
    "    iterations=10\n",
    ")\n",
    "\n",
    "# Évaluation finale sur l'ensemble de test\n",
    "print(\"\\nFinal Evaluation on Test Set:\")\n",
    "evaluate_model(best_model, X_test, y_test)\n",
    "\n",
    "# Visualisation de l'importance des fonctionnalités\n",
    "feature_importance = pd.DataFrame({\n",
    "    'feature': selected_columns,\n",
    "    'importance': best_model.feature_importances_\n",
    "})\n",
    "\n",
    "plt.figure(figsize=(10, 6))\n",
    "feature_importance.sort_values('importance', ascending=True).plot(x='feature', y='importance', kind='barh')\n",
    "plt.title('Feature Importance')\n",
    "plt.xlabel('Importance')\n",
    "plt.tight_layout()\n",
    "plt.show()\n"
   ]
  },
  {
   "cell_type": "code",
   "execution_count": null,
   "id": "4339d18e-46fe-4cdd-ad4a-2aa2f4736994",
   "metadata": {},
   "outputs": [],
   "source": []
  },
  {
   "cell_type": "code",
   "execution_count": null,
   "id": "85ee1ee3-cfa4-46a9-aa4c-2d3cc543f400",
   "metadata": {},
   "outputs": [],
   "source": []
  }
 ],
 "metadata": {
  "kernelspec": {
   "display_name": "Python 3 (ipykernel)",
   "language": "python",
   "name": "python3"
  },
  "language_info": {
   "codemirror_mode": {
    "name": "ipython",
    "version": 3
   },
   "file_extension": ".py",
   "mimetype": "text/x-python",
   "name": "python",
   "nbconvert_exporter": "python",
   "pygments_lexer": "ipython3",
   "version": "3.12.4"
  }
 },
 "nbformat": 4,
 "nbformat_minor": 5
}
